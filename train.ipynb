{
 "cells": [
  {
   "cell_type": "code",
   "execution_count": 9,
   "id": "c1f269c0",
   "metadata": {},
   "outputs": [],
   "source": [
    "import os"
   ]
  },
  {
   "cell_type": "code",
   "execution_count": 10,
   "id": "0eeb8472",
   "metadata": {},
   "outputs": [],
   "source": [
    "from tensorflow.keras.models import Sequential\n",
    "from tensorflow.keras.layers import Conv2D, MaxPooling2D, Dropout, Flatten, Dense\n",
    "from tensorflow.keras.optimizers import Adam\n",
    "from tensorflow.keras.preprocessing.image import ImageDataGenerator\n",
    "import numpy as np\n",
    "import matplotlib.pyplot as plt \n"
   ]
  },
  {
   "cell_type": "code",
   "execution_count": 11,
   "id": "6d927d3b",
   "metadata": {},
   "outputs": [],
   "source": [
    "main_dir=\"C:/final project/New Masks Dataset\"\n",
    "train_dir='C:/final project/New Masks Dataset/Train'\n",
    "test_dir='C:/final project/New Masks Dataset/Test'\n",
    "valid_dir='C:/final project/New Masks Dataset/Validation'\n",
    "\n",
    "train_mask_dir='C:/final project/New Masks Dataset/Train/Mask'\n",
    "train_nomask_dir='C:/final project/New Masks Dataset/Train/Non Mask'"
   ]
  },
  {
   "cell_type": "code",
   "execution_count": 12,
   "id": "615d0a15",
   "metadata": {},
   "outputs": [],
   "source": [
    "train_mask_names=os.listdir(train_mask_dir)\n",
    "train_nomask_names=os.listdir(train_nomask_dir)"
   ]
  },
  {
   "cell_type": "code",
   "execution_count": 13,
   "id": "e73dab28",
   "metadata": {},
   "outputs": [
    {
     "name": "stdout",
     "output_type": "stream",
     "text": [
      "Found 600 images belonging to 2 classes.\n",
      "Found 100 images belonging to 2 classes.\n",
      "Found 306 images belonging to 2 classes.\n"
     ]
    }
   ],
   "source": [
    "train_datagen=ImageDataGenerator(rescale=1./255,zoom_range=0.2,rotation_range=40,horizontal_flip=True)\n",
    "test_datagen=ImageDataGenerator(rescale=1./255)\n",
    "validation_datagen=ImageDataGenerator(rescale=1./255)\n",
    "train_generator=train_datagen.flow_from_directory(train_dir,target_size=(150,150),batch_size=32,class_mode='binary')\n",
    "test_generator=test_datagen.flow_from_directory(test_dir,target_size=(150,150),batch_size=32,class_mode='binary')\n",
    "valid_generator=validation_datagen.flow_from_directory(valid_dir,target_size=(150,150),batch_size=32,class_mode='binary')"
   ]
  },
  {
   "cell_type": "code",
   "execution_count": 20,
   "id": "106fc149",
   "metadata": {},
   "outputs": [
    {
     "name": "stdout",
     "output_type": "stream",
     "text": [
      "Model: \"sequential_1\"\n",
      "_________________________________________________________________\n",
      "Layer (type)                 Output Shape              Param #   \n",
      "=================================================================\n",
      "conv2d_1 (Conv2D)            (None, 150, 150, 32)      896       \n",
      "_________________________________________________________________\n",
      "max_pooling2d_1 (MaxPooling2 (None, 75, 75, 32)        0         \n",
      "_________________________________________________________________\n",
      "dropout_2 (Dropout)          (None, 75, 75, 32)        0         \n",
      "_________________________________________________________________\n",
      "conv2d_2 (Conv2D)            (None, 75, 75, 62)        17918     \n",
      "_________________________________________________________________\n",
      "max_pooling2d_2 (MaxPooling2 (None, 37, 37, 62)        0         \n",
      "_________________________________________________________________\n",
      "dropout_3 (Dropout)          (None, 37, 37, 62)        0         \n",
      "_________________________________________________________________\n",
      "flatten_1 (Flatten)          (None, 84878)             0         \n",
      "_________________________________________________________________\n",
      "dense_2 (Dense)              (None, 256)               21729024  \n",
      "_________________________________________________________________\n",
      "dropout_4 (Dropout)          (None, 256)               0         \n",
      "_________________________________________________________________\n",
      "dense_3 (Dense)              (None, 1)                 257       \n",
      "=================================================================\n",
      "Total params: 21,748,095\n",
      "Trainable params: 21,748,095\n",
      "Non-trainable params: 0\n",
      "_________________________________________________________________\n"
     ]
    }
   ],
   "source": [
    "model=Sequential()\n",
    "model.add(Conv2D(32,(3,3),padding=\"SAME\",activation='relu',input_shape=(150,150,3)))\n",
    "model.add(MaxPooling2D(pool_size=(2,2)))\n",
    "model.add(Dropout(0.5))\n",
    "model.add(Conv2D(62,(3,3),padding=\"SAME\",activation='relu',input_shape=(150,150,3)))\n",
    "model.add(MaxPooling2D(pool_size=(2,2)))\n",
    "model.add(Dropout(0.5))\n",
    "model.add(Flatten())\n",
    "model.add(Dense(256,activation='relu'))\n",
    "model.add(Dropout(0.5))\n",
    "model.add(Dense(1,activation='sigmoid'))\n",
    "model.summary()"
   ]
  },
  {
   "cell_type": "code",
   "execution_count": 21,
   "id": "02c8c6f9",
   "metadata": {},
   "outputs": [],
   "source": [
    "model.compile(Adam(lr=0.001),loss='binary_crossentropy',metrics=['accuracy'])"
   ]
  },
  {
   "cell_type": "code",
   "execution_count": 22,
   "id": "61c79d5e",
   "metadata": {},
   "outputs": [
    {
     "name": "stdout",
     "output_type": "stream",
     "text": [
      "Epoch 1/30\n",
      "19/19 [==============================] - 38s 2s/step - loss: 2.8633 - accuracy: 0.5283 - val_loss: 0.6780 - val_accuracy: 0.5033\n",
      "Epoch 2/30\n",
      "19/19 [==============================] - 34s 2s/step - loss: 0.5874 - accuracy: 0.7633 - val_loss: 0.5586 - val_accuracy: 0.8791\n",
      "Epoch 3/30\n",
      "19/19 [==============================] - 35s 2s/step - loss: 0.3687 - accuracy: 0.8667 - val_loss: 0.3565 - val_accuracy: 0.8889\n",
      "Epoch 4/30\n",
      "19/19 [==============================] - 35s 2s/step - loss: 0.3245 - accuracy: 0.8817 - val_loss: 0.3285 - val_accuracy: 0.9118\n",
      "Epoch 5/30\n",
      "19/19 [==============================] - 34s 2s/step - loss: 0.2746 - accuracy: 0.9100 - val_loss: 0.2887 - val_accuracy: 0.8987\n",
      "Epoch 6/30\n",
      "19/19 [==============================] - 33s 2s/step - loss: 0.2595 - accuracy: 0.9033 - val_loss: 0.2656 - val_accuracy: 0.9216\n",
      "Epoch 7/30\n",
      "19/19 [==============================] - 34s 2s/step - loss: 0.2744 - accuracy: 0.9017 - val_loss: 0.3350 - val_accuracy: 0.8856\n",
      "Epoch 8/30\n",
      "19/19 [==============================] - 34s 2s/step - loss: 0.2617 - accuracy: 0.9067 - val_loss: 0.3362 - val_accuracy: 0.8791\n",
      "Epoch 9/30\n",
      "19/19 [==============================] - 34s 2s/step - loss: 0.2383 - accuracy: 0.9150 - val_loss: 0.3082 - val_accuracy: 0.8954\n",
      "Epoch 10/30\n",
      "19/19 [==============================] - 34s 2s/step - loss: 0.2329 - accuracy: 0.9233 - val_loss: 0.2745 - val_accuracy: 0.8954\n",
      "Epoch 11/30\n",
      "19/19 [==============================] - 34s 2s/step - loss: 0.2485 - accuracy: 0.9067 - val_loss: 0.2716 - val_accuracy: 0.9052\n",
      "Epoch 12/30\n",
      "19/19 [==============================] - 34s 2s/step - loss: 0.2211 - accuracy: 0.9350 - val_loss: 0.2841 - val_accuracy: 0.8889\n",
      "Epoch 13/30\n",
      "19/19 [==============================] - 34s 2s/step - loss: 0.1965 - accuracy: 0.9250 - val_loss: 0.2487 - val_accuracy: 0.9052\n",
      "Epoch 14/30\n",
      "19/19 [==============================] - 35s 2s/step - loss: 0.2215 - accuracy: 0.9183 - val_loss: 0.3212 - val_accuracy: 0.8725\n",
      "Epoch 15/30\n",
      "19/19 [==============================] - 34s 2s/step - loss: 0.2069 - accuracy: 0.9267 - val_loss: 0.2502 - val_accuracy: 0.9020\n",
      "Epoch 16/30\n",
      "19/19 [==============================] - 34s 2s/step - loss: 0.1890 - accuracy: 0.9367 - val_loss: 0.2657 - val_accuracy: 0.8954\n",
      "Epoch 17/30\n",
      "19/19 [==============================] - 34s 2s/step - loss: 0.1798 - accuracy: 0.9267 - val_loss: 0.2510 - val_accuracy: 0.8922\n",
      "Epoch 18/30\n",
      "19/19 [==============================] - 34s 2s/step - loss: 0.1941 - accuracy: 0.9350 - val_loss: 0.2734 - val_accuracy: 0.8856\n",
      "Epoch 19/30\n",
      "19/19 [==============================] - 34s 2s/step - loss: 0.1741 - accuracy: 0.9300 - val_loss: 0.2526 - val_accuracy: 0.8922\n",
      "Epoch 20/30\n",
      "19/19 [==============================] - 34s 2s/step - loss: 0.1910 - accuracy: 0.9283 - val_loss: 0.2551 - val_accuracy: 0.9020\n",
      "Epoch 21/30\n",
      "19/19 [==============================] - 34s 2s/step - loss: 0.1632 - accuracy: 0.9350 - val_loss: 0.2293 - val_accuracy: 0.9085\n",
      "Epoch 22/30\n",
      "19/19 [==============================] - 34s 2s/step - loss: 0.1794 - accuracy: 0.9350 - val_loss: 0.2388 - val_accuracy: 0.9183\n",
      "Epoch 23/30\n",
      "19/19 [==============================] - 34s 2s/step - loss: 0.2141 - accuracy: 0.9233 - val_loss: 0.2623 - val_accuracy: 0.9085\n",
      "Epoch 24/30\n",
      "19/19 [==============================] - 34s 2s/step - loss: 0.1765 - accuracy: 0.9333 - val_loss: 0.2283 - val_accuracy: 0.9020\n",
      "Epoch 25/30\n",
      "19/19 [==============================] - 34s 2s/step - loss: 0.1842 - accuracy: 0.9333 - val_loss: 0.2702 - val_accuracy: 0.9085\n",
      "Epoch 26/30\n",
      "19/19 [==============================] - 34s 2s/step - loss: 0.1701 - accuracy: 0.9300 - val_loss: 0.2233 - val_accuracy: 0.9118\n",
      "Epoch 27/30\n",
      "19/19 [==============================] - 34s 2s/step - loss: 0.1537 - accuracy: 0.9417 - val_loss: 0.2348 - val_accuracy: 0.9052\n",
      "Epoch 28/30\n",
      "19/19 [==============================] - 34s 2s/step - loss: 0.1649 - accuracy: 0.9367 - val_loss: 0.2422 - val_accuracy: 0.9150\n",
      "Epoch 29/30\n",
      "19/19 [==============================] - 34s 2s/step - loss: 0.1721 - accuracy: 0.9317 - val_loss: 0.2388 - val_accuracy: 0.8987\n",
      "Epoch 30/30\n",
      "19/19 [==============================] - 34s 2s/step - loss: 0.1505 - accuracy: 0.9450 - val_loss: 0.2282 - val_accuracy: 0.9020\n"
     ]
    }
   ],
   "source": [
    "history=model.fit(train_generator,epochs=30,validation_data=valid_generator)"
   ]
  },
  {
   "cell_type": "code",
   "execution_count": 23,
   "id": "43750072",
   "metadata": {},
   "outputs": [],
   "source": [
    "model.save('model.h5')"
   ]
  }
 ],
 "metadata": {
  "kernelspec": {
   "display_name": "Python 3",
   "language": "python",
   "name": "python3"
  },
  "language_info": {
   "codemirror_mode": {
    "name": "ipython",
    "version": 3
   },
   "file_extension": ".py",
   "mimetype": "text/x-python",
   "name": "python",
   "nbconvert_exporter": "python",
   "pygments_lexer": "ipython3",
   "version": "3.8.8"
  }
 },
 "nbformat": 4,
 "nbformat_minor": 5
}
